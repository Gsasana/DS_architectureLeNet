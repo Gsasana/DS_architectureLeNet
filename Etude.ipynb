{
 "cells": [
  {
   "cell_type": "markdown",
   "metadata": {},
   "source": [
    "# Résolution avec l'architecture LeNet\n",
    "Le principal objectif est de réaliser une reproduction de l’algo de réseau de neurones  Convolutif LeNet5 avec Keras"
   ]
  },
  {
   "cell_type": "code",
   "execution_count": 2,
   "metadata": {},
   "outputs": [],
   "source": [
    "import matplotlib_inline\n",
    "import numpy as np\n",
    "\n",
    "from tensorflow.keras.models import Sequential, Model\n",
    "from tensorflow.keras.layers import Dense, Activation, Input\n",
    "from tensorflow.keras.layers import Dropout\n",
    "from tensorflow.keras.layers import Flatten\n",
    "from tensorflow.keras.layers import Conv2D\n",
    "from tensorflow.keras.layers import MaxPooling2D\n",
    "from keras.utils import to_categorical\n",
    "\n",
    "import matplotlib.pyplot as plt\n",
    "from matplotlib import cm\n",
    "\n",
    "from sklearn import metrics\n",
    "\n",
    "import itertools\n"
   ]
  },
  {
   "cell_type": "code",
   "execution_count": 3,
   "metadata": {},
   "outputs": [
    {
     "name": "stdout",
     "output_type": "stream",
     "text": [
      "Shape of X: (60000, 784)\n",
      "Shape of y: (60000,)\n"
     ]
    }
   ],
   "source": [
    "# Pour importer le datasets mnist de Keras\n",
    "from tensorflow.keras.datasets.mnist import load_data\n",
    "\n",
    "# Chargement des données MNIST\n",
    "(X_train, y_train), (X_test, y_test) = load_data()\n",
    "\n",
    "# Changer la forme de X_train et X_test\n",
    "X_train = X_train.reshape([-1, 28*28])\n",
    "X_test = X_test.reshape([-1, 28*28])\n",
    "\n",
    "# Shape of X_train and y_train\n",
    "print('Shape of X:', X_train.shape)\n",
    "print('Shape of y:', y_train.shape)"
   ]
  },
  {
   "cell_type": "code",
   "execution_count": 4,
   "metadata": {},
   "outputs": [],
   "source": [
    "X_train = X_train.reshape((-1, 28, 28, 1))\n",
    "X_test = X_test.reshape((-1, 28, 28, 1))"
   ]
  },
  {
   "cell_type": "code",
   "execution_count": 5,
   "metadata": {},
   "outputs": [],
   "source": [
    "X_train = X_train / 255\n",
    "X_test = X_test / 255\n",
    "\n",
    "y_train = to_categorical(y_train)\n",
    "y_test = to_categorical(y_test)\n"
   ]
  },
  {
   "cell_type": "markdown",
   "metadata": {},
   "source": [
    "## Construction de l'algorithme\n"
   ]
  },
  {
   "cell_type": "code",
   "execution_count": 6,
   "metadata": {},
   "outputs": [
    {
     "name": "stdout",
     "output_type": "stream",
     "text": [
      "Epoch 1/16\n",
      "240/240 [==============================] - 9s 33ms/step - loss: 0.4450 - accuracy: 0.8608 - val_loss: 0.1053 - val_accuracy: 0.9701\n",
      "Epoch 2/16\n",
      "240/240 [==============================] - 8s 34ms/step - loss: 0.1107 - accuracy: 0.9664 - val_loss: 0.0694 - val_accuracy: 0.9794\n",
      "Epoch 3/16\n",
      "240/240 [==============================] - 7s 29ms/step - loss: 0.0761 - accuracy: 0.9767 - val_loss: 0.0605 - val_accuracy: 0.9828\n",
      "Epoch 4/16\n",
      "240/240 [==============================] - 9s 36ms/step - loss: 0.0673 - accuracy: 0.9792 - val_loss: 0.0501 - val_accuracy: 0.9845\n",
      "Epoch 5/16\n",
      "240/240 [==============================] - 7s 30ms/step - loss: 0.0567 - accuracy: 0.9822 - val_loss: 0.0484 - val_accuracy: 0.9855\n",
      "Epoch 6/16\n",
      "240/240 [==============================] - 9s 38ms/step - loss: 0.0487 - accuracy: 0.9853 - val_loss: 0.0436 - val_accuracy: 0.9873\n",
      "Epoch 7/16\n",
      "240/240 [==============================] - 8s 34ms/step - loss: 0.0428 - accuracy: 0.9863 - val_loss: 0.0422 - val_accuracy: 0.9872\n",
      "Epoch 8/16\n",
      "240/240 [==============================] - 9s 39ms/step - loss: 0.0413 - accuracy: 0.9870 - val_loss: 0.0377 - val_accuracy: 0.9887\n",
      "Epoch 9/16\n",
      "240/240 [==============================] - 6s 26ms/step - loss: 0.0361 - accuracy: 0.9882 - val_loss: 0.0371 - val_accuracy: 0.9902\n",
      "Epoch 10/16\n",
      "240/240 [==============================] - 8s 33ms/step - loss: 0.0322 - accuracy: 0.9892 - val_loss: 0.0413 - val_accuracy: 0.9878\n",
      "Epoch 11/16\n",
      "240/240 [==============================] - 8s 32ms/step - loss: 0.0302 - accuracy: 0.9907 - val_loss: 0.0378 - val_accuracy: 0.9895\n",
      "Epoch 12/16\n",
      "240/240 [==============================] - 10s 40ms/step - loss: 0.0265 - accuracy: 0.9907 - val_loss: 0.0363 - val_accuracy: 0.9903\n",
      "Epoch 13/16\n",
      "240/240 [==============================] - 8s 32ms/step - loss: 0.0260 - accuracy: 0.9914 - val_loss: 0.0342 - val_accuracy: 0.9898\n",
      "Epoch 14/16\n",
      "240/240 [==============================] - 7s 29ms/step - loss: 0.0232 - accuracy: 0.9925 - val_loss: 0.0316 - val_accuracy: 0.9912\n",
      "Epoch 15/16\n",
      "240/240 [==============================] - 8s 34ms/step - loss: 0.0209 - accuracy: 0.9926 - val_loss: 0.0371 - val_accuracy: 0.9901\n",
      "Epoch 16/16\n",
      "240/240 [==============================] - 7s 31ms/step - loss: 0.0211 - accuracy: 0.9926 - val_loss: 0.0338 - val_accuracy: 0.9915\n"
     ]
    }
   ],
   "source": [
    "# Architecture du modèle\n",
    "inputs=Input(shape = (28, 28,1), name = \"Input\")\n",
    "\n",
    "\n",
    "conv_1 = Conv2D(filters = 30,                     # Nombre de filtres\n",
    "                kernel_size = (5, 5),            # Dimensions du noyau\n",
    "                padding = 'valid',               # Mode de Dépassement\n",
    "                input_shape = (28, 28, 1),       # Dimensions de l'image en entrée\n",
    "                activation = 'relu')             # Fonction d'activation\n",
    "\n",
    "max_pool_1 = MaxPooling2D(pool_size = (2, 2))\n",
    "\n",
    "conv_2 = Conv2D(filters = 16,                    \n",
    "                kernel_size = (3, 3),          \n",
    "                padding = 'valid',             \n",
    "                activation = 'relu')\n",
    "\n",
    "max_pool_2 = MaxPooling2D(pool_size = (2, 2))\n",
    "\n",
    "flatten = Flatten()\n",
    "\n",
    "dropout = Dropout(rate = 0.2)\n",
    "\n",
    "dense_1 = Dense(units = 128,\n",
    "                activation = 'relu')\n",
    "\n",
    "dense_2 = Dense(units = 10,\n",
    "                activation = 'softmax')\n",
    "x=conv_1(inputs)\n",
    "x=max_pool_1(x)\n",
    "x=conv_2(x)\n",
    "x=max_pool_2(x)\n",
    "\n",
    "\n",
    "x=dropout(x)\n",
    "x=flatten(x)\n",
    "x=dense_1(x)\n",
    "outputs=dense_2(x)\n",
    "\n",
    "lenet = Model(inputs = inputs, outputs = outputs)\n",
    "\n",
    "# Compilation\n",
    "lenet.compile(loss='categorical_crossentropy',  # fonction de perte\n",
    "              optimizer='adam',                 # algorithme de descente de gradient\n",
    "              metrics=['accuracy'])             # métrique d'évaluation\n",
    "\n",
    "# Entraînement_1\n",
    "training_history_lenet = lenet.fit(X_train, y_train,          # données\n",
    "                                   validation_split = 0.2,    # split de test\n",
    "                                   epochs = 16,               # nombre d'epochs\n",
    "                                   batch_size = 200)          # taille des batchs\n"
   ]
  },
  {
   "cell_type": "code",
   "execution_count": 7,
   "metadata": {},
   "outputs": [],
   "source": [
    "train_acc_lenet = training_history_lenet.history['accuracy']\n",
    "val_acc_lenet = training_history_lenet.history['val_accuracy']\n"
   ]
  },
  {
   "cell_type": "code",
   "execution_count": 8,
   "metadata": {},
   "outputs": [
    {
     "name": "stdout",
     "output_type": "stream",
     "text": [
      "Epoch 1/16\n",
      "240/240 [==============================] - 1s 4ms/step - loss: 1.2234 - accuracy: 0.7574 - val_loss: 0.6067 - val_accuracy: 0.8867\n",
      "Epoch 2/16\n",
      "240/240 [==============================] - 1s 3ms/step - loss: 0.4872 - accuracy: 0.8915 - val_loss: 0.3755 - val_accuracy: 0.9103\n",
      "Epoch 3/16\n",
      "240/240 [==============================] - 1s 3ms/step - loss: 0.3530 - accuracy: 0.9094 - val_loss: 0.3081 - val_accuracy: 0.9185\n",
      "Epoch 4/16\n",
      "240/240 [==============================] - 1s 2ms/step - loss: 0.2996 - accuracy: 0.9191 - val_loss: 0.2751 - val_accuracy: 0.9252\n",
      "Epoch 5/16\n",
      "240/240 [==============================] - 1s 2ms/step - loss: 0.2677 - accuracy: 0.9263 - val_loss: 0.2540 - val_accuracy: 0.9310\n",
      "Epoch 6/16\n",
      "240/240 [==============================] - 0s 2ms/step - loss: 0.2461 - accuracy: 0.9318 - val_loss: 0.2413 - val_accuracy: 0.9344\n",
      "Epoch 7/16\n",
      "240/240 [==============================] - 0s 2ms/step - loss: 0.2289 - accuracy: 0.9353 - val_loss: 0.2298 - val_accuracy: 0.9358\n",
      "Epoch 8/16\n",
      "240/240 [==============================] - 0s 2ms/step - loss: 0.2160 - accuracy: 0.9393 - val_loss: 0.2203 - val_accuracy: 0.9383\n",
      "Epoch 9/16\n",
      "240/240 [==============================] - 1s 2ms/step - loss: 0.2045 - accuracy: 0.9423 - val_loss: 0.2150 - val_accuracy: 0.9388\n",
      "Epoch 10/16\n",
      "240/240 [==============================] - 0s 2ms/step - loss: 0.1947 - accuracy: 0.9442 - val_loss: 0.2063 - val_accuracy: 0.9413\n",
      "Epoch 11/16\n",
      "240/240 [==============================] - 0s 2ms/step - loss: 0.1862 - accuracy: 0.9471 - val_loss: 0.2027 - val_accuracy: 0.9428\n",
      "Epoch 12/16\n",
      "240/240 [==============================] - 0s 2ms/step - loss: 0.1783 - accuracy: 0.9489 - val_loss: 0.1978 - val_accuracy: 0.9442\n",
      "Epoch 13/16\n",
      "240/240 [==============================] - 1s 2ms/step - loss: 0.1721 - accuracy: 0.9502 - val_loss: 0.1956 - val_accuracy: 0.9438\n",
      "Epoch 14/16\n",
      "240/240 [==============================] - 1s 2ms/step - loss: 0.1661 - accuracy: 0.9524 - val_loss: 0.1922 - val_accuracy: 0.9445\n",
      "Epoch 15/16\n",
      "240/240 [==============================] - 1s 2ms/step - loss: 0.1606 - accuracy: 0.9539 - val_loss: 0.1896 - val_accuracy: 0.9453\n",
      "Epoch 16/16\n",
      "240/240 [==============================] - 0s 2ms/step - loss: 0.1555 - accuracy: 0.9554 - val_loss: 0.1874 - val_accuracy: 0.9452\n",
      "Epoch 1/16\n",
      "240/240 [==============================] - 9s 35ms/step - loss: 0.2790 - accuracy: 0.9222 - val_loss: 0.0893 - val_accuracy: 0.9753\n",
      "Epoch 2/16\n",
      "240/240 [==============================] - 7s 31ms/step - loss: 0.0814 - accuracy: 0.9763 - val_loss: 0.0637 - val_accuracy: 0.9814\n",
      "Epoch 3/16\n",
      "240/240 [==============================] - 8s 32ms/step - loss: 0.0577 - accuracy: 0.9821 - val_loss: 0.0523 - val_accuracy: 0.9847\n",
      "Epoch 4/16\n",
      "240/240 [==============================] - 7s 31ms/step - loss: 0.0437 - accuracy: 0.9865 - val_loss: 0.0464 - val_accuracy: 0.9858\n",
      "Epoch 5/16\n",
      "240/240 [==============================] - 7s 30ms/step - loss: 0.0358 - accuracy: 0.9888 - val_loss: 0.0448 - val_accuracy: 0.9871\n",
      "Epoch 6/16\n",
      "240/240 [==============================] - 7s 30ms/step - loss: 0.0290 - accuracy: 0.9907 - val_loss: 0.0388 - val_accuracy: 0.9886\n",
      "Epoch 7/16\n",
      "240/240 [==============================] - 8s 33ms/step - loss: 0.0243 - accuracy: 0.9923 - val_loss: 0.0461 - val_accuracy: 0.9874\n",
      "Epoch 8/16\n",
      "240/240 [==============================] - 7s 29ms/step - loss: 0.0204 - accuracy: 0.9934 - val_loss: 0.0394 - val_accuracy: 0.9881\n",
      "Epoch 9/16\n",
      "240/240 [==============================] - 7s 29ms/step - loss: 0.0176 - accuracy: 0.9942 - val_loss: 0.0470 - val_accuracy: 0.9857\n",
      "Epoch 10/16\n",
      "240/240 [==============================] - 8s 32ms/step - loss: 0.0164 - accuracy: 0.9947 - val_loss: 0.0409 - val_accuracy: 0.9887\n",
      "Epoch 11/16\n",
      "240/240 [==============================] - 8s 35ms/step - loss: 0.0128 - accuracy: 0.9958 - val_loss: 0.0428 - val_accuracy: 0.9895\n",
      "Epoch 12/16\n",
      "240/240 [==============================] - 7s 31ms/step - loss: 0.0105 - accuracy: 0.9967 - val_loss: 0.0451 - val_accuracy: 0.9877\n",
      "Epoch 13/16\n",
      "240/240 [==============================] - 8s 35ms/step - loss: 0.0107 - accuracy: 0.9966 - val_loss: 0.0476 - val_accuracy: 0.9873\n",
      "Epoch 14/16\n",
      "240/240 [==============================] - 7s 30ms/step - loss: 0.0089 - accuracy: 0.9971 - val_loss: 0.0418 - val_accuracy: 0.9891\n",
      "Epoch 15/16\n",
      "240/240 [==============================] - 8s 33ms/step - loss: 0.0068 - accuracy: 0.9978 - val_loss: 0.0461 - val_accuracy: 0.9889\n",
      "Epoch 16/16\n",
      "240/240 [==============================] - 7s 30ms/step - loss: 0.0078 - accuracy: 0.9974 - val_loss: 0.0436 - val_accuracy: 0.9896\n"
     ]
    }
   ],
   "source": [
    "# Réseau Dense\n",
    "inputs_dense=Input(shape = (28, 28,1), name = \"Input\")\n",
    "dense_0 = Flatten()\n",
    "dense_1 = Dense(units = 20, input_dim = 784, kernel_initializer ='normal', activation ='tanh')            \n",
    "dense_2 = Dense(units = 10, kernel_initializer ='normal', activation ='softmax')\n",
    "\n",
    "x=dense_0(inputs_dense)\n",
    "x=dense_1(x)\n",
    "outputs_dense=dense_2(x)\n",
    "\n",
    "# CNN\n",
    "inputs_cnn=Input(shape = (28, 28,1), name = \"Input\")\n",
    "cnn_1 = Conv2D(filters = 32, kernel_size = (5, 5), padding = 'valid', activation = 'relu')\n",
    "cnn_2 = MaxPooling2D(pool_size = (2, 2))\n",
    "cnn_3 = Dropout(rate = 0.2)\n",
    "cnn_4 = Flatten()\n",
    "cnn_5 = Dense(units = 128, activation = 'relu')\n",
    "cnn_6 = Dense(units = 10, activation='softmax')\n",
    "\n",
    "x=cnn_1(inputs_cnn)\n",
    "x=cnn_2(x)\n",
    "x=cnn_3(x)\n",
    "x=cnn_4(x)\n",
    "x=cnn_5(x)\n",
    "outputs_cnn=cnn_6(x)\n",
    "\n",
    "# Model\n",
    "model_dense = Model(inputs = inputs_dense, outputs = outputs_dense)\n",
    "model_cnn = Model(inputs = inputs_cnn, outputs = outputs_cnn)\n",
    "\n",
    "# Compilation\n",
    "model_dense.compile(loss = 'categorical_crossentropy', optimizer = 'adam', metrics = ['accuracy'])           \n",
    "model_cnn.compile(loss = 'categorical_crossentropy', optimizer = 'adam', metrics = ['accuracy'])            \n",
    "\n",
    "# Entraînement\n",
    "training_history_dense = model_dense.fit(X_train, y_train, validation_split = 0.2, epochs = 16, batch_size = 200, verbose = 1)\n",
    "training_history_cnn = model_cnn.fit(X_train, y_train, validation_split = 0.2, epochs = 16, batch_size = 200, verbose = 1)\n"
   ]
  },
  {
   "cell_type": "code",
   "execution_count": 9,
   "metadata": {},
   "outputs": [
    {
     "data": {
      "image/png": "[encoded data removed]",
      "text/plain": [
       "<Figure size 640x480 with 1 Axes>"
      ]
     },
     "metadata": {},
     "output_type": "display_data"
    }
   ],
   "source": [
    "val_acc_dense = training_history_dense.history['val_accuracy']\n",
    "val_acc_cnn = training_history_cnn.history['val_accuracy']\n",
    "\n",
    "# Labels des axes\n",
    "plt.xlabel('Epochs')\n",
    "plt.ylabel('Accuracy')\n",
    "\n",
    "# Courbe du score de test du réseau Dense\n",
    "plt.plot(np.arange(1 , 17, 1),\n",
    "         val_acc_dense,\n",
    "         label = 'Dense',\n",
    "         color = 'blue')\n",
    "\n",
    "# Courbe du score de test du réseau CNN\n",
    "plt.plot(np.arange(1 , 17, 1),\n",
    "         val_acc_cnn, \n",
    "         label = 'CNN',\n",
    "         color = 'red')\n",
    "\n",
    "# Courbe du score de test du réseau LeNet\n",
    "plt.plot(np.arange(1 , 17, 1),\n",
    "         val_acc_lenet, \n",
    "         label = 'LeNet',\n",
    "         color = 'green')\n",
    "\n",
    "# Affichage de la légende\n",
    "plt.legend()\n",
    "\n",
    "# Affichage de la figure\n",
    "plt.show()\n"
   ]
  },
  {
   "cell_type": "code",
   "execution_count": 10,
   "metadata": {},
   "outputs": [
    {
     "name": "stdout",
     "output_type": "stream",
     "text": [
      "313/313 [==============================] - 1s 2ms/step\n",
      "313/313 [==============================] - 0s 1ms/step\n",
      "313/313 [==============================] - 4s 11ms/step\n"
     ]
    }
   ],
   "source": [
    "test_pred_lenet = lenet.predict(X_test)\n",
    "test_pred_dense = model_dense.predict(X_test)\n",
    "test_pred_cnn = model_cnn.predict(X_test)\n",
    "\n",
    "test_pred_lenet_class = test_pred_lenet.argmax(axis = 1)\n",
    "test_pred_dense_class = test_pred_dense.argmax(axis = 1)\n",
    "test_pred_cnn_class = test_pred_cnn.argmax(axis = 1)\n",
    "y_test_class = y_test.argmax(axis = 1)\n"
   ]
  },
  {
   "cell_type": "code",
   "execution_count": 11,
   "metadata": {},
   "outputs": [
    {
     "name": "stdout",
     "output_type": "stream",
     "text": [
      "              precision    recall  f1-score   support\n",
      "\n",
      "           0       0.99      1.00      1.00       980\n",
      "           1       0.99      1.00      0.99      1135\n",
      "           2       0.99      0.99      0.99      1032\n",
      "           3       0.99      0.99      0.99      1010\n",
      "           4       0.99      0.99      0.99       982\n",
      "           5       0.99      0.99      0.99       892\n",
      "           6       1.00      0.99      0.99       958\n",
      "           7       0.98      0.99      0.99      1028\n",
      "           8       1.00      0.99      0.99       974\n",
      "           9       0.99      0.98      0.99      1009\n",
      "\n",
      "    accuracy                           0.99     10000\n",
      "   macro avg       0.99      0.99      0.99     10000\n",
      "weighted avg       0.99      0.99      0.99     10000\n",
      "\n"
     ]
    }
   ],
   "source": [
    "print(metrics.classification_report(y_test_class, test_pred_lenet_class))\n"
   ]
  },
  {
   "cell_type": "code",
   "execution_count": 12,
   "metadata": {},
   "outputs": [
    {
     "data": {
      "image/png": "[encoded data removed]",
      "text/plain": [
       "<Figure size 640x480 with 3 Axes>"
      ]
     },
     "metadata": {},
     "output_type": "display_data"
    }
   ],
   "source": [
    "error_indexes = []\n",
    "for i in range(len(test_pred_cnn)):\n",
    "    if (test_pred_lenet_class[i] != y_test_class[i]):\n",
    "        if(test_pred_dense_class[i] != y_test_class[i]):\n",
    "            if(test_pred_cnn_class[i] != y_test_class[i]):\n",
    "                error_indexes += [i]\n",
    "\n",
    "j = 1\n",
    "for i in np.random.choice(error_indexes, size = 3):\n",
    "    img = X_test[i] \n",
    "    img = img.reshape(28, 28)\n",
    "    \n",
    "    plt.subplot(1, 3, j)\n",
    "    j = j + 1\n",
    "    plt.axis('off')\n",
    "    plt.imshow(img,cmap = cm.binary, interpolation='None')\n",
    "    plt.title('True Label: ' + str(y_test_class[i]) \\\n",
    "              + '\\n' + 'Prediction: '+ str(test_pred_lenet_class[i]) \\\n",
    "              + '\\n' + 'Confidence: '+ str(round(test_pred_lenet[i][test_pred_lenet_class[i]], 2)))\n"
   ]
  },
  {
   "cell_type": "markdown",
   "metadata": {},
   "source": [
    "On remarque que certains des chiffres mal identifiés sont parfois très mal écrits, certains ne sont même pas reconnaissables.\n",
    "\n",
    "Avec un taux de précision dépassant les 99% pour quelques minutes d'entraînement, on peut affirmer qu'au moins un des trois modèles a rempli son objectif."
   ]
  }
 ],
 "metadata": {
  "kernelspec": {
   "display_name": "raku",
   "language": "python",
   "name": "python3"
  },
  "language_info": {
   "codemirror_mode": {
    "name": "ipython",
    "version": 3
   },
   "file_extension": ".py",
   "mimetype": "text/x-python",
   "name": "python",
   "nbconvert_exporter": "python",
   "pygments_lexer": "ipython3",
   "version": "3.10.13"
  }
 },
 "nbformat": 4,
 "nbformat_minor": 2
}
